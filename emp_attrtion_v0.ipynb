{
 "cells": [
  {
   "cell_type": "code",
   "execution_count": 1,
   "id": "c0bfb145-824d-47b5-859b-64fa9fa93341",
   "metadata": {},
   "outputs": [],
   "source": [
    "import os\n",
    "import numpy as np\n",
    "import pandas as pd\n",
    "import warnings\n",
    "warnings.filterwarnings('ignore')"
   ]
  },
  {
   "cell_type": "code",
   "execution_count": 2,
   "id": "83874e12-a325-4add-b117-efb3934bb80a",
   "metadata": {},
   "outputs": [
    {
     "name": "stdout",
     "output_type": "stream",
     "text": [
      "Requirement already satisfied: category_encoders in c:\\users\\nanda\\appdata\\local\\programs\\python\\python310\\lib\\site-packages (2.5.1.post0)\n",
      "Requirement already satisfied: scipy>=1.0.0 in c:\\users\\nanda\\appdata\\local\\programs\\python\\python310\\lib\\site-packages (from category_encoders) (1.9.3)\n",
      "Requirement already satisfied: pandas>=1.0.5 in c:\\users\\nanda\\appdata\\local\\programs\\python\\python310\\lib\\site-packages (from category_encoders) (1.5.1)\n",
      "Requirement already satisfied: statsmodels>=0.9.0 in c:\\users\\nanda\\appdata\\local\\programs\\python\\python310\\lib\\site-packages (from category_encoders) (0.13.5)\n",
      "Requirement already satisfied: scikit-learn>=0.20.0 in c:\\users\\nanda\\appdata\\local\\programs\\python\\python310\\lib\\site-packages (from category_encoders) (1.1.3)\n",
      "Requirement already satisfied: numpy>=1.14.0 in c:\\users\\nanda\\appdata\\local\\programs\\python\\python310\\lib\\site-packages (from category_encoders) (1.23.4)\n",
      "Requirement already satisfied: patsy>=0.5.1 in c:\\users\\nanda\\appdata\\local\\programs\\python\\python310\\lib\\site-packages (from category_encoders) (0.5.3)\n",
      "Requirement already satisfied: python-dateutil>=2.8.1 in c:\\users\\nanda\\appdata\\local\\programs\\python\\python310\\lib\\site-packages (from pandas>=1.0.5->category_encoders) (2.8.2)\n",
      "Requirement already satisfied: pytz>=2020.1 in c:\\users\\nanda\\appdata\\local\\programs\\python\\python310\\lib\\site-packages (from pandas>=1.0.5->category_encoders) (2022.6)\n",
      "Requirement already satisfied: six in c:\\users\\nanda\\appdata\\local\\programs\\python\\python310\\lib\\site-packages (from patsy>=0.5.1->category_encoders) (1.16.0)\n",
      "Requirement already satisfied: threadpoolctl>=2.0.0 in c:\\users\\nanda\\appdata\\local\\programs\\python\\python310\\lib\\site-packages (from scikit-learn>=0.20.0->category_encoders) (3.1.0)\n",
      "Requirement already satisfied: joblib>=1.0.0 in c:\\users\\nanda\\appdata\\local\\programs\\python\\python310\\lib\\site-packages (from scikit-learn>=0.20.0->category_encoders) (1.2.0)\n",
      "Requirement already satisfied: packaging>=21.3 in c:\\users\\nanda\\appdata\\local\\programs\\python\\python310\\lib\\site-packages (from statsmodels>=0.9.0->category_encoders) (21.3)\n",
      "Requirement already satisfied: pyparsing!=3.0.5,>=2.0.2 in c:\\users\\nanda\\appdata\\local\\programs\\python\\python310\\lib\\site-packages (from packaging>=21.3->statsmodels>=0.9.0->category_encoders) (3.0.9)\n"
     ]
    }
   ],
   "source": [
    "!pip install category_encoders"
   ]
  },
  {
   "cell_type": "code",
   "execution_count": 3,
   "id": "a4e5125f-45d9-4d90-a8ff-1de8cc4da26b",
   "metadata": {},
   "outputs": [],
   "source": [
    "os.chdir(r'C:\\Users\\nanda\\employee-attrition')"
   ]
  },
  {
   "cell_type": "code",
   "execution_count": 4,
   "id": "c7734f0b-4dca-46d0-ae78-db7b7fa4e307",
   "metadata": {},
   "outputs": [],
   "source": [
    "df_left = pd.read_csv('employee_who_left.csv')"
   ]
  },
  {
   "cell_type": "code",
   "execution_count": 5,
   "id": "6402b7b5-ef13-4969-bfac-9a67fb802975",
   "metadata": {},
   "outputs": [
    {
     "data": {
      "text/plain": [
       "(3571, 10)"
      ]
     },
     "execution_count": 5,
     "metadata": {},
     "output_type": "execute_result"
    }
   ],
   "source": [
    "df_left.shape"
   ]
  },
  {
   "cell_type": "code",
   "execution_count": 6,
   "id": "d11ddcd2-be3d-40ab-b2d4-5aeb76840c50",
   "metadata": {},
   "outputs": [
    {
     "data": {
      "text/html": [
       "<div>\n",
       "<style scoped>\n",
       "    .dataframe tbody tr th:only-of-type {\n",
       "        vertical-align: middle;\n",
       "    }\n",
       "\n",
       "    .dataframe tbody tr th {\n",
       "        vertical-align: top;\n",
       "    }\n",
       "\n",
       "    .dataframe thead th {\n",
       "        text-align: right;\n",
       "    }\n",
       "</style>\n",
       "<table border=\"1\" class=\"dataframe\">\n",
       "  <thead>\n",
       "    <tr style=\"text-align: right;\">\n",
       "      <th></th>\n",
       "      <th>Emp ID</th>\n",
       "      <th>satisfaction_level</th>\n",
       "      <th>last_evaluation</th>\n",
       "      <th>number_project</th>\n",
       "      <th>average_montly_hours</th>\n",
       "      <th>time_spend_company</th>\n",
       "      <th>Work_accident</th>\n",
       "      <th>promotion_last_5years</th>\n",
       "      <th>dept</th>\n",
       "      <th>salary</th>\n",
       "    </tr>\n",
       "  </thead>\n",
       "  <tbody>\n",
       "    <tr>\n",
       "      <th>0</th>\n",
       "      <td>1</td>\n",
       "      <td>0.38</td>\n",
       "      <td>0.53</td>\n",
       "      <td>2</td>\n",
       "      <td>157</td>\n",
       "      <td>3</td>\n",
       "      <td>0</td>\n",
       "      <td>0</td>\n",
       "      <td>sales</td>\n",
       "      <td>low</td>\n",
       "    </tr>\n",
       "    <tr>\n",
       "      <th>1</th>\n",
       "      <td>2</td>\n",
       "      <td>0.80</td>\n",
       "      <td>0.86</td>\n",
       "      <td>5</td>\n",
       "      <td>262</td>\n",
       "      <td>6</td>\n",
       "      <td>0</td>\n",
       "      <td>0</td>\n",
       "      <td>sales</td>\n",
       "      <td>medium</td>\n",
       "    </tr>\n",
       "    <tr>\n",
       "      <th>2</th>\n",
       "      <td>3</td>\n",
       "      <td>0.11</td>\n",
       "      <td>0.88</td>\n",
       "      <td>7</td>\n",
       "      <td>272</td>\n",
       "      <td>4</td>\n",
       "      <td>0</td>\n",
       "      <td>0</td>\n",
       "      <td>sales</td>\n",
       "      <td>medium</td>\n",
       "    </tr>\n",
       "    <tr>\n",
       "      <th>3</th>\n",
       "      <td>4</td>\n",
       "      <td>0.72</td>\n",
       "      <td>0.87</td>\n",
       "      <td>5</td>\n",
       "      <td>223</td>\n",
       "      <td>5</td>\n",
       "      <td>0</td>\n",
       "      <td>0</td>\n",
       "      <td>sales</td>\n",
       "      <td>low</td>\n",
       "    </tr>\n",
       "    <tr>\n",
       "      <th>4</th>\n",
       "      <td>5</td>\n",
       "      <td>0.37</td>\n",
       "      <td>0.52</td>\n",
       "      <td>2</td>\n",
       "      <td>159</td>\n",
       "      <td>3</td>\n",
       "      <td>0</td>\n",
       "      <td>0</td>\n",
       "      <td>sales</td>\n",
       "      <td>low</td>\n",
       "    </tr>\n",
       "  </tbody>\n",
       "</table>\n",
       "</div>"
      ],
      "text/plain": [
       "   Emp ID  satisfaction_level  last_evaluation  number_project  \\\n",
       "0       1                0.38             0.53               2   \n",
       "1       2                0.80             0.86               5   \n",
       "2       3                0.11             0.88               7   \n",
       "3       4                0.72             0.87               5   \n",
       "4       5                0.37             0.52               2   \n",
       "\n",
       "   average_montly_hours  time_spend_company  Work_accident  \\\n",
       "0                   157                   3              0   \n",
       "1                   262                   6              0   \n",
       "2                   272                   4              0   \n",
       "3                   223                   5              0   \n",
       "4                   159                   3              0   \n",
       "\n",
       "   promotion_last_5years   dept  salary  \n",
       "0                      0  sales     low  \n",
       "1                      0  sales  medium  \n",
       "2                      0  sales  medium  \n",
       "3                      0  sales     low  \n",
       "4                      0  sales     low  "
      ]
     },
     "execution_count": 6,
     "metadata": {},
     "output_type": "execute_result"
    }
   ],
   "source": [
    "df_left.head()"
   ]
  },
  {
   "cell_type": "code",
   "execution_count": 7,
   "id": "d9d880e5-a04b-4107-b9f8-8aa90c16aad5",
   "metadata": {},
   "outputs": [],
   "source": [
    "df_left_copy = df_left.copy()"
   ]
  },
  {
   "cell_type": "code",
   "execution_count": 8,
   "id": "326e3cb2-ed5d-41ef-9928-8882ae41af53",
   "metadata": {},
   "outputs": [],
   "source": [
    "df_left_copy['target'] = 1"
   ]
  },
  {
   "cell_type": "code",
   "execution_count": 9,
   "id": "94c385ce-7114-4f5d-a6f7-d0bba93b0440",
   "metadata": {},
   "outputs": [],
   "source": [
    "df_emp = pd.read_csv('existing_employee.csv')"
   ]
  },
  {
   "cell_type": "code",
   "execution_count": null,
   "id": "779193aa-6035-4fb5-834b-af287441eb39",
   "metadata": {},
   "outputs": [],
   "source": []
  },
  {
   "cell_type": "code",
   "execution_count": 10,
   "id": "7c944353-c86f-489d-9cb0-3251249cb12b",
   "metadata": {},
   "outputs": [
    {
     "data": {
      "text/html": [
       "<div>\n",
       "<style scoped>\n",
       "    .dataframe tbody tr th:only-of-type {\n",
       "        vertical-align: middle;\n",
       "    }\n",
       "\n",
       "    .dataframe tbody tr th {\n",
       "        vertical-align: top;\n",
       "    }\n",
       "\n",
       "    .dataframe thead th {\n",
       "        text-align: right;\n",
       "    }\n",
       "</style>\n",
       "<table border=\"1\" class=\"dataframe\">\n",
       "  <thead>\n",
       "    <tr style=\"text-align: right;\">\n",
       "      <th></th>\n",
       "      <th>Emp ID</th>\n",
       "      <th>satisfaction_level</th>\n",
       "      <th>last_evaluation</th>\n",
       "      <th>number_project</th>\n",
       "      <th>average_montly_hours</th>\n",
       "      <th>time_spend_company</th>\n",
       "      <th>Work_accident</th>\n",
       "      <th>promotion_last_5years</th>\n",
       "      <th>dept</th>\n",
       "      <th>salary</th>\n",
       "    </tr>\n",
       "  </thead>\n",
       "  <tbody>\n",
       "    <tr>\n",
       "      <th>0</th>\n",
       "      <td>2001</td>\n",
       "      <td>0.58</td>\n",
       "      <td>0.74</td>\n",
       "      <td>4</td>\n",
       "      <td>215</td>\n",
       "      <td>3</td>\n",
       "      <td>0</td>\n",
       "      <td>0</td>\n",
       "      <td>sales</td>\n",
       "      <td>low</td>\n",
       "    </tr>\n",
       "    <tr>\n",
       "      <th>1</th>\n",
       "      <td>2002</td>\n",
       "      <td>0.82</td>\n",
       "      <td>0.67</td>\n",
       "      <td>2</td>\n",
       "      <td>202</td>\n",
       "      <td>3</td>\n",
       "      <td>0</td>\n",
       "      <td>0</td>\n",
       "      <td>sales</td>\n",
       "      <td>low</td>\n",
       "    </tr>\n",
       "    <tr>\n",
       "      <th>2</th>\n",
       "      <td>2003</td>\n",
       "      <td>0.45</td>\n",
       "      <td>0.69</td>\n",
       "      <td>5</td>\n",
       "      <td>193</td>\n",
       "      <td>3</td>\n",
       "      <td>0</td>\n",
       "      <td>0</td>\n",
       "      <td>sales</td>\n",
       "      <td>low</td>\n",
       "    </tr>\n",
       "    <tr>\n",
       "      <th>3</th>\n",
       "      <td>2004</td>\n",
       "      <td>0.78</td>\n",
       "      <td>0.82</td>\n",
       "      <td>5</td>\n",
       "      <td>247</td>\n",
       "      <td>3</td>\n",
       "      <td>0</td>\n",
       "      <td>0</td>\n",
       "      <td>sales</td>\n",
       "      <td>low</td>\n",
       "    </tr>\n",
       "    <tr>\n",
       "      <th>4</th>\n",
       "      <td>2005</td>\n",
       "      <td>0.49</td>\n",
       "      <td>0.60</td>\n",
       "      <td>3</td>\n",
       "      <td>214</td>\n",
       "      <td>2</td>\n",
       "      <td>0</td>\n",
       "      <td>0</td>\n",
       "      <td>sales</td>\n",
       "      <td>low</td>\n",
       "    </tr>\n",
       "  </tbody>\n",
       "</table>\n",
       "</div>"
      ],
      "text/plain": [
       "   Emp ID  satisfaction_level  last_evaluation  number_project  \\\n",
       "0    2001                0.58             0.74               4   \n",
       "1    2002                0.82             0.67               2   \n",
       "2    2003                0.45             0.69               5   \n",
       "3    2004                0.78             0.82               5   \n",
       "4    2005                0.49             0.60               3   \n",
       "\n",
       "   average_montly_hours  time_spend_company  Work_accident  \\\n",
       "0                   215                   3              0   \n",
       "1                   202                   3              0   \n",
       "2                   193                   3              0   \n",
       "3                   247                   3              0   \n",
       "4                   214                   2              0   \n",
       "\n",
       "   promotion_last_5years   dept salary  \n",
       "0                      0  sales    low  \n",
       "1                      0  sales    low  \n",
       "2                      0  sales    low  \n",
       "3                      0  sales    low  \n",
       "4                      0  sales    low  "
      ]
     },
     "execution_count": 10,
     "metadata": {},
     "output_type": "execute_result"
    }
   ],
   "source": [
    "df_emp.head()"
   ]
  },
  {
   "cell_type": "code",
   "execution_count": 11,
   "id": "10bf8856-b926-4da8-86b2-cac53e803b54",
   "metadata": {},
   "outputs": [
    {
     "data": {
      "text/plain": [
       "(11428, 10)"
      ]
     },
     "execution_count": 11,
     "metadata": {},
     "output_type": "execute_result"
    }
   ],
   "source": [
    "df_emp.shape"
   ]
  },
  {
   "cell_type": "code",
   "execution_count": 12,
   "id": "96f0abc7-1a9d-42c0-8cad-ec7e67411ca7",
   "metadata": {},
   "outputs": [],
   "source": [
    "df_emp_copy = df_emp.copy()"
   ]
  },
  {
   "cell_type": "code",
   "execution_count": 13,
   "id": "a958a1c8-dc50-4849-9c6c-20fde0c487ef",
   "metadata": {},
   "outputs": [],
   "source": [
    "df_emp_copy['target'] = 0"
   ]
  },
  {
   "cell_type": "code",
   "execution_count": 14,
   "id": "30a697c4-1b16-40bc-8a5f-bd62cce5b4d1",
   "metadata": {},
   "outputs": [],
   "source": [
    "# final_df.append(df_emp_copy, ignore_index=True)\n",
    "final_df = pd.concat([df_left_copy,df_emp_copy])"
   ]
  },
  {
   "cell_type": "code",
   "execution_count": 15,
   "id": "b620ae9b-1c88-4382-b337-7b60acda8233",
   "metadata": {},
   "outputs": [
    {
     "data": {
      "text/plain": [
       "(14999, 11)"
      ]
     },
     "execution_count": 15,
     "metadata": {},
     "output_type": "execute_result"
    }
   ],
   "source": [
    "final_df.shape"
   ]
  },
  {
   "cell_type": "code",
   "execution_count": 16,
   "id": "b62e36af-7bc3-4ab1-a164-2930ef74f41b",
   "metadata": {},
   "outputs": [
    {
     "data": {
      "text/plain": [
       "Index(['Emp ID', 'satisfaction_level', 'last_evaluation', 'number_project',\n",
       "       'average_montly_hours', 'time_spend_company', 'Work_accident',\n",
       "       'promotion_last_5years', 'dept', 'salary', 'target'],\n",
       "      dtype='object')"
      ]
     },
     "execution_count": 16,
     "metadata": {},
     "output_type": "execute_result"
    }
   ],
   "source": [
    "final_df.columns"
   ]
  },
  {
   "cell_type": "code",
   "execution_count": 17,
   "id": "e38c4c58-0e9b-417f-8fd8-19b9bedefbd0",
   "metadata": {},
   "outputs": [],
   "source": [
    "final_df =final_df.drop('Emp ID',axis=1)"
   ]
  },
  {
   "cell_type": "code",
   "execution_count": 18,
   "id": "a7c9494f-fe8a-4004-adc6-6a6bf0bdbb4a",
   "metadata": {},
   "outputs": [
    {
     "data": {
      "text/html": [
       "<div>\n",
       "<style scoped>\n",
       "    .dataframe tbody tr th:only-of-type {\n",
       "        vertical-align: middle;\n",
       "    }\n",
       "\n",
       "    .dataframe tbody tr th {\n",
       "        vertical-align: top;\n",
       "    }\n",
       "\n",
       "    .dataframe thead th {\n",
       "        text-align: right;\n",
       "    }\n",
       "</style>\n",
       "<table border=\"1\" class=\"dataframe\">\n",
       "  <thead>\n",
       "    <tr style=\"text-align: right;\">\n",
       "      <th></th>\n",
       "      <th>satisfaction_level</th>\n",
       "      <th>last_evaluation</th>\n",
       "      <th>number_project</th>\n",
       "      <th>average_montly_hours</th>\n",
       "      <th>time_spend_company</th>\n",
       "      <th>Work_accident</th>\n",
       "      <th>promotion_last_5years</th>\n",
       "      <th>dept</th>\n",
       "      <th>salary</th>\n",
       "      <th>target</th>\n",
       "    </tr>\n",
       "  </thead>\n",
       "  <tbody>\n",
       "    <tr>\n",
       "      <th>11423</th>\n",
       "      <td>0.90</td>\n",
       "      <td>0.55</td>\n",
       "      <td>3</td>\n",
       "      <td>259</td>\n",
       "      <td>10</td>\n",
       "      <td>1</td>\n",
       "      <td>1</td>\n",
       "      <td>management</td>\n",
       "      <td>high</td>\n",
       "      <td>0</td>\n",
       "    </tr>\n",
       "    <tr>\n",
       "      <th>11424</th>\n",
       "      <td>0.74</td>\n",
       "      <td>0.95</td>\n",
       "      <td>5</td>\n",
       "      <td>266</td>\n",
       "      <td>10</td>\n",
       "      <td>0</td>\n",
       "      <td>1</td>\n",
       "      <td>management</td>\n",
       "      <td>high</td>\n",
       "      <td>0</td>\n",
       "    </tr>\n",
       "    <tr>\n",
       "      <th>11425</th>\n",
       "      <td>0.85</td>\n",
       "      <td>0.54</td>\n",
       "      <td>3</td>\n",
       "      <td>185</td>\n",
       "      <td>10</td>\n",
       "      <td>0</td>\n",
       "      <td>1</td>\n",
       "      <td>management</td>\n",
       "      <td>high</td>\n",
       "      <td>0</td>\n",
       "    </tr>\n",
       "    <tr>\n",
       "      <th>11426</th>\n",
       "      <td>0.33</td>\n",
       "      <td>0.65</td>\n",
       "      <td>3</td>\n",
       "      <td>172</td>\n",
       "      <td>10</td>\n",
       "      <td>0</td>\n",
       "      <td>1</td>\n",
       "      <td>marketing</td>\n",
       "      <td>high</td>\n",
       "      <td>0</td>\n",
       "    </tr>\n",
       "    <tr>\n",
       "      <th>11427</th>\n",
       "      <td>0.50</td>\n",
       "      <td>0.73</td>\n",
       "      <td>4</td>\n",
       "      <td>180</td>\n",
       "      <td>3</td>\n",
       "      <td>0</td>\n",
       "      <td>0</td>\n",
       "      <td>IT</td>\n",
       "      <td>low</td>\n",
       "      <td>0</td>\n",
       "    </tr>\n",
       "  </tbody>\n",
       "</table>\n",
       "</div>"
      ],
      "text/plain": [
       "       satisfaction_level  last_evaluation  number_project  \\\n",
       "11423                0.90             0.55               3   \n",
       "11424                0.74             0.95               5   \n",
       "11425                0.85             0.54               3   \n",
       "11426                0.33             0.65               3   \n",
       "11427                0.50             0.73               4   \n",
       "\n",
       "       average_montly_hours  time_spend_company  Work_accident  \\\n",
       "11423                   259                  10              1   \n",
       "11424                   266                  10              0   \n",
       "11425                   185                  10              0   \n",
       "11426                   172                  10              0   \n",
       "11427                   180                   3              0   \n",
       "\n",
       "       promotion_last_5years        dept salary  target  \n",
       "11423                      1  management   high       0  \n",
       "11424                      1  management   high       0  \n",
       "11425                      1  management   high       0  \n",
       "11426                      1   marketing   high       0  \n",
       "11427                      0          IT    low       0  "
      ]
     },
     "execution_count": 18,
     "metadata": {},
     "output_type": "execute_result"
    }
   ],
   "source": [
    "final_df.tail()"
   ]
  },
  {
   "cell_type": "code",
   "execution_count": 19,
   "id": "1a3f19b0-257f-4962-bb9b-81e7b6150f2e",
   "metadata": {},
   "outputs": [],
   "source": [
    "# shuffling dataframe"
   ]
  },
  {
   "cell_type": "code",
   "execution_count": 20,
   "id": "0356c67d-071c-4ab1-9511-eb2c49d3ed4b",
   "metadata": {},
   "outputs": [],
   "source": [
    "final_df = final_df.sample(frac=1, random_state=42).reset_index(drop=True)"
   ]
  },
  {
   "cell_type": "code",
   "execution_count": 21,
   "id": "e9dddb1f-e6f2-40ac-a24b-0295da83e707",
   "metadata": {},
   "outputs": [
    {
     "data": {
      "text/html": [
       "<div>\n",
       "<style scoped>\n",
       "    .dataframe tbody tr th:only-of-type {\n",
       "        vertical-align: middle;\n",
       "    }\n",
       "\n",
       "    .dataframe tbody tr th {\n",
       "        vertical-align: top;\n",
       "    }\n",
       "\n",
       "    .dataframe thead th {\n",
       "        text-align: right;\n",
       "    }\n",
       "</style>\n",
       "<table border=\"1\" class=\"dataframe\">\n",
       "  <thead>\n",
       "    <tr style=\"text-align: right;\">\n",
       "      <th></th>\n",
       "      <th>satisfaction_level</th>\n",
       "      <th>last_evaluation</th>\n",
       "      <th>number_project</th>\n",
       "      <th>average_montly_hours</th>\n",
       "      <th>time_spend_company</th>\n",
       "      <th>Work_accident</th>\n",
       "      <th>promotion_last_5years</th>\n",
       "      <th>dept</th>\n",
       "      <th>salary</th>\n",
       "      <th>target</th>\n",
       "    </tr>\n",
       "  </thead>\n",
       "  <tbody>\n",
       "    <tr>\n",
       "      <th>0</th>\n",
       "      <td>0.73</td>\n",
       "      <td>0.86</td>\n",
       "      <td>4</td>\n",
       "      <td>133</td>\n",
       "      <td>3</td>\n",
       "      <td>0</td>\n",
       "      <td>0</td>\n",
       "      <td>technical</td>\n",
       "      <td>high</td>\n",
       "      <td>0</td>\n",
       "    </tr>\n",
       "    <tr>\n",
       "      <th>1</th>\n",
       "      <td>0.21</td>\n",
       "      <td>0.77</td>\n",
       "      <td>6</td>\n",
       "      <td>215</td>\n",
       "      <td>4</td>\n",
       "      <td>0</td>\n",
       "      <td>0</td>\n",
       "      <td>sales</td>\n",
       "      <td>medium</td>\n",
       "      <td>0</td>\n",
       "    </tr>\n",
       "    <tr>\n",
       "      <th>2</th>\n",
       "      <td>0.60</td>\n",
       "      <td>0.98</td>\n",
       "      <td>4</td>\n",
       "      <td>195</td>\n",
       "      <td>3</td>\n",
       "      <td>0</td>\n",
       "      <td>0</td>\n",
       "      <td>support</td>\n",
       "      <td>medium</td>\n",
       "      <td>0</td>\n",
       "    </tr>\n",
       "    <tr>\n",
       "      <th>3</th>\n",
       "      <td>0.41</td>\n",
       "      <td>0.47</td>\n",
       "      <td>2</td>\n",
       "      <td>154</td>\n",
       "      <td>3</td>\n",
       "      <td>0</td>\n",
       "      <td>0</td>\n",
       "      <td>sales</td>\n",
       "      <td>low</td>\n",
       "      <td>1</td>\n",
       "    </tr>\n",
       "    <tr>\n",
       "      <th>4</th>\n",
       "      <td>0.77</td>\n",
       "      <td>0.87</td>\n",
       "      <td>5</td>\n",
       "      <td>257</td>\n",
       "      <td>2</td>\n",
       "      <td>0</td>\n",
       "      <td>0</td>\n",
       "      <td>product_mng</td>\n",
       "      <td>medium</td>\n",
       "      <td>0</td>\n",
       "    </tr>\n",
       "  </tbody>\n",
       "</table>\n",
       "</div>"
      ],
      "text/plain": [
       "   satisfaction_level  last_evaluation  number_project  average_montly_hours  \\\n",
       "0                0.73             0.86               4                   133   \n",
       "1                0.21             0.77               6                   215   \n",
       "2                0.60             0.98               4                   195   \n",
       "3                0.41             0.47               2                   154   \n",
       "4                0.77             0.87               5                   257   \n",
       "\n",
       "   time_spend_company  Work_accident  promotion_last_5years         dept  \\\n",
       "0                   3              0                      0    technical   \n",
       "1                   4              0                      0        sales   \n",
       "2                   3              0                      0      support   \n",
       "3                   3              0                      0        sales   \n",
       "4                   2              0                      0  product_mng   \n",
       "\n",
       "   salary  target  \n",
       "0    high       0  \n",
       "1  medium       0  \n",
       "2  medium       0  \n",
       "3     low       1  \n",
       "4  medium       0  "
      ]
     },
     "execution_count": 21,
     "metadata": {},
     "output_type": "execute_result"
    }
   ],
   "source": [
    "final_df.head()"
   ]
  },
  {
   "cell_type": "code",
   "execution_count": 22,
   "id": "56e19878-f9d0-49da-bcf8-d819c13bb362",
   "metadata": {},
   "outputs": [
    {
     "data": {
      "text/plain": [
       "sales          4140\n",
       "technical      2720\n",
       "support        2229\n",
       "IT             1227\n",
       "product_mng     902\n",
       "marketing       858\n",
       "RandD           787\n",
       "accounting      767\n",
       "hr              739\n",
       "management      630\n",
       "Name: dept, dtype: int64"
      ]
     },
     "execution_count": 22,
     "metadata": {},
     "output_type": "execute_result"
    }
   ],
   "source": [
    "final_df['dept'].value_counts()"
   ]
  },
  {
   "cell_type": "code",
   "execution_count": 23,
   "id": "acb4af64-7efd-493d-83fd-a9f709b2a69a",
   "metadata": {},
   "outputs": [
    {
     "data": {
      "text/plain": [
       "low       7316\n",
       "medium    6446\n",
       "high      1237\n",
       "Name: salary, dtype: int64"
      ]
     },
     "execution_count": 23,
     "metadata": {},
     "output_type": "execute_result"
    }
   ],
   "source": [
    "final_df['salary'].value_counts()"
   ]
  },
  {
   "cell_type": "code",
   "execution_count": 24,
   "id": "d1506da7-7fb6-4c4b-b44a-29b76be657d6",
   "metadata": {},
   "outputs": [],
   "source": [
    "final_df_wo= final_df.copy()"
   ]
  },
  {
   "cell_type": "code",
   "execution_count": 25,
   "id": "3f23ae15-7619-4719-8103-d8929c7559cb",
   "metadata": {},
   "outputs": [],
   "source": [
    "# !pip install category_encoders"
   ]
  },
  {
   "cell_type": "code",
   "execution_count": 26,
   "id": "12656567-fdf2-48dc-b68b-93ad8c611a57",
   "metadata": {},
   "outputs": [],
   "source": [
    "categorical_cols = ['salary','dept']\n",
    "\n",
    "############################################\n",
    "from category_encoders import one_hot\n",
    "ohe = one_hot.OneHotEncoder(use_cat_names=True)\n",
    "array_hot_encoded = ohe.fit_transform(final_df[categorical_cols])\n",
    "data_hot_encoded = pd.DataFrame(array_hot_encoded)\n",
    "data_other_cols = final_df.drop(columns=categorical_cols)\n",
    "# # #Concatenate the two dataframes : \n",
    "final_df = pd.concat([data_hot_encoded, data_other_cols], axis=1)"
   ]
  },
  {
   "cell_type": "code",
   "execution_count": 27,
   "id": "89d2010e-bdf2-4d4e-96b5-296153883e7a",
   "metadata": {},
   "outputs": [
    {
     "data": {
      "text/plain": [
       "['clean_ohe.pkl']"
      ]
     },
     "execution_count": 27,
     "metadata": {},
     "output_type": "execute_result"
    }
   ],
   "source": [
    "# Dumping the transformer to an external pickle file\n",
    "import joblib\n",
    "joblib.dump(ohe, 'clean_ohe.pkl')"
   ]
  },
  {
   "cell_type": "code",
   "execution_count": 28,
   "id": "2b87b2d9-f3e3-4b3c-ab32-070aef971487",
   "metadata": {},
   "outputs": [],
   "source": [
    "from sklearn.model_selection import train_test_split"
   ]
  },
  {
   "cell_type": "code",
   "execution_count": 29,
   "id": "e690f25e-6bbf-418d-ac43-7d35a9070a79",
   "metadata": {},
   "outputs": [
    {
     "data": {
      "text/html": [
       "<div>\n",
       "<style scoped>\n",
       "    .dataframe tbody tr th:only-of-type {\n",
       "        vertical-align: middle;\n",
       "    }\n",
       "\n",
       "    .dataframe tbody tr th {\n",
       "        vertical-align: top;\n",
       "    }\n",
       "\n",
       "    .dataframe thead th {\n",
       "        text-align: right;\n",
       "    }\n",
       "</style>\n",
       "<table border=\"1\" class=\"dataframe\">\n",
       "  <thead>\n",
       "    <tr style=\"text-align: right;\">\n",
       "      <th></th>\n",
       "      <th>salary_high</th>\n",
       "      <th>salary_medium</th>\n",
       "      <th>salary_low</th>\n",
       "      <th>dept_technical</th>\n",
       "      <th>dept_sales</th>\n",
       "      <th>dept_support</th>\n",
       "      <th>dept_product_mng</th>\n",
       "      <th>dept_IT</th>\n",
       "      <th>dept_RandD</th>\n",
       "      <th>dept_marketing</th>\n",
       "      <th>...</th>\n",
       "      <th>dept_management</th>\n",
       "      <th>dept_hr</th>\n",
       "      <th>satisfaction_level</th>\n",
       "      <th>last_evaluation</th>\n",
       "      <th>number_project</th>\n",
       "      <th>average_montly_hours</th>\n",
       "      <th>time_spend_company</th>\n",
       "      <th>Work_accident</th>\n",
       "      <th>promotion_last_5years</th>\n",
       "      <th>target</th>\n",
       "    </tr>\n",
       "  </thead>\n",
       "  <tbody>\n",
       "    <tr>\n",
       "      <th>0</th>\n",
       "      <td>1</td>\n",
       "      <td>0</td>\n",
       "      <td>0</td>\n",
       "      <td>1</td>\n",
       "      <td>0</td>\n",
       "      <td>0</td>\n",
       "      <td>0</td>\n",
       "      <td>0</td>\n",
       "      <td>0</td>\n",
       "      <td>0</td>\n",
       "      <td>...</td>\n",
       "      <td>0</td>\n",
       "      <td>0</td>\n",
       "      <td>0.73</td>\n",
       "      <td>0.86</td>\n",
       "      <td>4</td>\n",
       "      <td>133</td>\n",
       "      <td>3</td>\n",
       "      <td>0</td>\n",
       "      <td>0</td>\n",
       "      <td>0</td>\n",
       "    </tr>\n",
       "    <tr>\n",
       "      <th>1</th>\n",
       "      <td>0</td>\n",
       "      <td>1</td>\n",
       "      <td>0</td>\n",
       "      <td>0</td>\n",
       "      <td>1</td>\n",
       "      <td>0</td>\n",
       "      <td>0</td>\n",
       "      <td>0</td>\n",
       "      <td>0</td>\n",
       "      <td>0</td>\n",
       "      <td>...</td>\n",
       "      <td>0</td>\n",
       "      <td>0</td>\n",
       "      <td>0.21</td>\n",
       "      <td>0.77</td>\n",
       "      <td>6</td>\n",
       "      <td>215</td>\n",
       "      <td>4</td>\n",
       "      <td>0</td>\n",
       "      <td>0</td>\n",
       "      <td>0</td>\n",
       "    </tr>\n",
       "  </tbody>\n",
       "</table>\n",
       "<p>2 rows × 21 columns</p>\n",
       "</div>"
      ],
      "text/plain": [
       "   salary_high  salary_medium  salary_low  dept_technical  dept_sales  \\\n",
       "0            1              0           0               1           0   \n",
       "1            0              1           0               0           1   \n",
       "\n",
       "   dept_support  dept_product_mng  dept_IT  dept_RandD  dept_marketing  ...  \\\n",
       "0             0                 0        0           0               0  ...   \n",
       "1             0                 0        0           0               0  ...   \n",
       "\n",
       "   dept_management  dept_hr  satisfaction_level  last_evaluation  \\\n",
       "0                0        0                0.73             0.86   \n",
       "1                0        0                0.21             0.77   \n",
       "\n",
       "   number_project  average_montly_hours  time_spend_company  Work_accident  \\\n",
       "0               4                   133                   3              0   \n",
       "1               6                   215                   4              0   \n",
       "\n",
       "   promotion_last_5years  target  \n",
       "0                      0       0  \n",
       "1                      0       0  \n",
       "\n",
       "[2 rows x 21 columns]"
      ]
     },
     "execution_count": 29,
     "metadata": {},
     "output_type": "execute_result"
    }
   ],
   "source": [
    "final_df.head(2)"
   ]
  },
  {
   "cell_type": "code",
   "execution_count": null,
   "id": "d5666153-544d-477c-b980-2e09f4d6d097",
   "metadata": {},
   "outputs": [],
   "source": []
  },
  {
   "cell_type": "code",
   "execution_count": 30,
   "id": "bf5ff5f5-3656-4d15-896d-73565ffadb09",
   "metadata": {},
   "outputs": [
    {
     "data": {
      "text/plain": [
       "salary_high              0\n",
       "salary_medium            0\n",
       "salary_low               0\n",
       "dept_technical           0\n",
       "dept_sales               0\n",
       "dept_support             0\n",
       "dept_product_mng         0\n",
       "dept_IT                  0\n",
       "dept_RandD               0\n",
       "dept_marketing           0\n",
       "dept_accounting          0\n",
       "dept_management          0\n",
       "dept_hr                  0\n",
       "satisfaction_level       0\n",
       "last_evaluation          0\n",
       "number_project           0\n",
       "average_montly_hours     0\n",
       "time_spend_company       0\n",
       "Work_accident            0\n",
       "promotion_last_5years    0\n",
       "target                   0\n",
       "dtype: int64"
      ]
     },
     "execution_count": 30,
     "metadata": {},
     "output_type": "execute_result"
    }
   ],
   "source": [
    "final_df.isnull().sum()"
   ]
  },
  {
   "cell_type": "code",
   "execution_count": 31,
   "id": "3a262a71-5cef-4030-b3ae-12de361ec8ae",
   "metadata": {},
   "outputs": [
    {
     "data": {
      "text/plain": [
       "Index(['salary_high', 'salary_medium', 'salary_low', 'dept_technical',\n",
       "       'dept_sales', 'dept_support', 'dept_product_mng', 'dept_IT',\n",
       "       'dept_RandD', 'dept_marketing', 'dept_accounting', 'dept_management',\n",
       "       'dept_hr', 'satisfaction_level', 'last_evaluation', 'number_project',\n",
       "       'average_montly_hours', 'time_spend_company', 'Work_accident',\n",
       "       'promotion_last_5years', 'target'],\n",
       "      dtype='object')"
      ]
     },
     "execution_count": 31,
     "metadata": {},
     "output_type": "execute_result"
    }
   ],
   "source": [
    "final_df.columns"
   ]
  },
  {
   "cell_type": "code",
   "execution_count": 32,
   "id": "16942bf1-3ca6-4e87-ac75-717b02f55568",
   "metadata": {},
   "outputs": [],
   "source": [
    "X = final_df.drop(['target'], axis=1)\n",
    "y = final_df['target']"
   ]
  },
  {
   "cell_type": "code",
   "execution_count": 33,
   "id": "ed3c8535-03e6-4b07-999e-434d647fd5ff",
   "metadata": {},
   "outputs": [],
   "source": [
    "X_train, X_test, y_train, y_test = train_test_split(X, y, test_size=0.3, random_state=42)"
   ]
  },
  {
   "cell_type": "code",
   "execution_count": 34,
   "id": "28e60f5e-abbd-4c84-9aa0-d63cbc0bbc91",
   "metadata": {},
   "outputs": [
    {
     "name": "stdout",
     "output_type": "stream",
     "text": [
      "X_train shape(10499, 20)\n",
      "X_test shape(4500, 20)\n",
      "*************************\n",
      "y_train shape(10499,)\n",
      "y_test shape(4500,)\n"
     ]
    }
   ],
   "source": [
    "print(f'X_train shape{X_train.shape}')\n",
    "print(f'X_test shape{X_test.shape}')\n",
    "print('*'*25)\n",
    "print(f'y_train shape{y_train.shape}')\n",
    "print(f'y_test shape{y_test.shape}')"
   ]
  },
  {
   "cell_type": "markdown",
   "id": "fa0c0e0f-8d22-4e4a-b351-562274c95925",
   "metadata": {},
   "source": [
    "# Baseline model(Decision Tree)"
   ]
  },
  {
   "cell_type": "code",
   "execution_count": 35,
   "id": "a813b03a-5752-48ff-9f25-0536d2cc7321",
   "metadata": {},
   "outputs": [
    {
     "name": "stdout",
     "output_type": "stream",
     "text": [
      "[1 1 0 ... 0 0 0]\n"
     ]
    }
   ],
   "source": [
    "from sklearn import tree\n",
    "model = tree.DecisionTreeClassifier()\n",
    "model = model.fit(X_train.values, y_train)\n",
    " \n",
    "y_pred = model.predict(X_test)\n",
    "print(y_pred)"
   ]
  },
  {
   "cell_type": "code",
   "execution_count": 36,
   "id": "0bf25421-94d3-45a5-8868-7d2c5b33233f",
   "metadata": {},
   "outputs": [],
   "source": [
    "from sklearn.metrics import confusion_matrix \n",
    "\n",
    "def get_metrics(true_values, pred_values):\n",
    "    print('Confusion matrix \\n')\n",
    "    cm= confusion_matrix(true_values, pred_values) \n",
    "    print(cm)\n",
    "    print('*'*30)\n",
    "    print (\"Accuracy : \",accuracy_score(true_values, pred_values)*100)\n",
    "    print('*'*30)\n",
    "    print(\"Report : \\n\",classification_report(true_values, pred_values))\n",
    "    "
   ]
  },
  {
   "cell_type": "code",
   "execution_count": 37,
   "id": "64431821-a1b4-49c0-b45c-bedf04c9993d",
   "metadata": {},
   "outputs": [
    {
     "name": "stdout",
     "output_type": "stream",
     "text": [
      "Confusion matrix \n",
      "\n",
      "[[3402   49]\n",
      " [  34 1015]]\n",
      "******************************\n",
      "Accuracy :  98.15555555555555\n",
      "******************************\n",
      "Report : \n",
      "               precision    recall  f1-score   support\n",
      "\n",
      "           0       0.99      0.99      0.99      3451\n",
      "           1       0.95      0.97      0.96      1049\n",
      "\n",
      "    accuracy                           0.98      4500\n",
      "   macro avg       0.97      0.98      0.97      4500\n",
      "weighted avg       0.98      0.98      0.98      4500\n",
      "\n"
     ]
    }
   ],
   "source": [
    "from sklearn.metrics import accuracy_score, classification_report\n",
    "\n",
    "get_metrics(y_test,y_pred)"
   ]
  },
  {
   "cell_type": "markdown",
   "id": "9ab7e50f-f2cf-4cd3-888b-86f9f5d3106a",
   "metadata": {},
   "source": [
    "# RandomForest"
   ]
  },
  {
   "cell_type": "code",
   "execution_count": 38,
   "id": "a1f825e2-3cf5-42a5-ade7-01c051efc3a3",
   "metadata": {},
   "outputs": [
    {
     "name": "stdout",
     "output_type": "stream",
     "text": [
      "[1 1 0 ... 0 0 0]\n"
     ]
    }
   ],
   "source": [
    "from sklearn.ensemble import RandomForestClassifier\n",
    "rf_model = RandomForestClassifier()\n",
    "rf_model = rf_model.fit(X_train.values, y_train)\n",
    " \n",
    "rf_y_pred = rf_model.predict(X_test)\n",
    "print(rf_y_pred)"
   ]
  },
  {
   "cell_type": "code",
   "execution_count": 39,
   "id": "346378c3-b130-49b7-9fa5-53dd6c69a817",
   "metadata": {},
   "outputs": [
    {
     "name": "stdout",
     "output_type": "stream",
     "text": [
      "Confusion matrix \n",
      "\n",
      "[[3440   11]\n",
      " [  36 1013]]\n",
      "******************************\n",
      "Accuracy :  98.95555555555555\n",
      "******************************\n",
      "Report : \n",
      "               precision    recall  f1-score   support\n",
      "\n",
      "           0       0.99      1.00      0.99      3451\n",
      "           1       0.99      0.97      0.98      1049\n",
      "\n",
      "    accuracy                           0.99      4500\n",
      "   macro avg       0.99      0.98      0.99      4500\n",
      "weighted avg       0.99      0.99      0.99      4500\n",
      "\n"
     ]
    }
   ],
   "source": [
    "get_metrics(y_test,rf_y_pred)"
   ]
  },
  {
   "cell_type": "code",
   "execution_count": null,
   "id": "a95ec5bf-e0ec-49d4-90dc-d36b2f819ab1",
   "metadata": {},
   "outputs": [],
   "source": []
  },
  {
   "cell_type": "code",
   "execution_count": 40,
   "id": "46c6b734-3520-48f0-a677-0decc7696f9d",
   "metadata": {},
   "outputs": [],
   "source": [
    "# saving model in picle format"
   ]
  },
  {
   "cell_type": "code",
   "execution_count": 41,
   "id": "419dc7dc-1f04-4e98-a99f-5839732641af",
   "metadata": {},
   "outputs": [],
   "source": [
    "import pickle\n",
    "pickle.dump(rf_model, open('emp_rf.pkl','wb'))"
   ]
  },
  {
   "cell_type": "code",
   "execution_count": null,
   "id": "6a7681db-ac71-4a57-8260-84d8cb2c6cef",
   "metadata": {},
   "outputs": [],
   "source": []
  },
  {
   "cell_type": "markdown",
   "id": "4c7b23aa-43a5-42e1-ada5-276cab51338f",
   "metadata": {},
   "source": [
    "# Model Inference"
   ]
  },
  {
   "cell_type": "code",
   "execution_count": 42,
   "id": "9c998058-b4da-42fb-ad87-1323afdd5c9e",
   "metadata": {},
   "outputs": [],
   "source": [
    " # loading the model"
   ]
  },
  {
   "cell_type": "code",
   "execution_count": 43,
   "id": "ae4cfdba-84bf-4491-93eb-80943809d63d",
   "metadata": {},
   "outputs": [],
   "source": [
    "inf_model = pickle.load(open('emp_rf.pkl','rb'))"
   ]
  },
  {
   "cell_type": "code",
   "execution_count": 44,
   "id": "08e6a322-c69c-4a8f-af9a-37732c52af01",
   "metadata": {},
   "outputs": [
    {
     "name": "stdout",
     "output_type": "stream",
     "text": [
      "Input Values\n",
      "********************\n",
      "salary_high                0.00\n",
      "salary_medium              0.00\n",
      "salary_low                 1.00\n",
      "dept_technical             1.00\n",
      "dept_sales                 0.00\n",
      "dept_support               0.00\n",
      "dept_product_mng           0.00\n",
      "dept_IT                    0.00\n",
      "dept_RandD                 0.00\n",
      "dept_marketing             0.00\n",
      "dept_accounting            0.00\n",
      "dept_management            0.00\n",
      "dept_hr                    0.00\n",
      "satisfaction_level         0.85\n",
      "last_evaluation            0.89\n",
      "number_project             4.00\n",
      "average_montly_hours     221.00\n",
      "time_spend_company         5.00\n",
      "Work_accident              0.00\n",
      "promotion_last_5years      0.00\n",
      "Name: 1572, dtype: float64\n",
      "********************\n",
      "target \n",
      "  1\n"
     ]
    }
   ],
   "source": [
    "# input to the models\n",
    "print('Input Values')\n",
    "print('*'*20)\n",
    "print(X_train.iloc[2])\n",
    "print('*'*20)\n",
    "print('target \\n ', y_train.iloc[2])"
   ]
  },
  {
   "cell_type": "code",
   "execution_count": 45,
   "id": "069ee3ad-86dc-4890-9ca5-50ea52be93c3",
   "metadata": {},
   "outputs": [
    {
     "data": {
      "text/plain": [
       "0"
      ]
     },
     "execution_count": 45,
     "metadata": {},
     "output_type": "execute_result"
    }
   ],
   "source": [
    "pred_results = inf_model.predict(np.array(X_train.iloc[0]).reshape(1,-1))\n",
    "pred_results[0]"
   ]
  },
  {
   "cell_type": "code",
   "execution_count": 46,
   "id": "96b0f841-bfaf-4c9d-9fb7-6202b3e742f0",
   "metadata": {},
   "outputs": [
    {
     "data": {
      "text/plain": [
       "1"
      ]
     },
     "execution_count": 46,
     "metadata": {},
     "output_type": "execute_result"
    }
   ],
   "source": [
    "pred_results = inf_model.predict(np.array(X_train.iloc[2]).reshape(1,-1))\n",
    "pred_results[0]"
   ]
  },
  {
   "cell_type": "code",
   "execution_count": null,
   "id": "2f5f4e3d-2d03-48ba-ac92-216c29adcfbe",
   "metadata": {},
   "outputs": [],
   "source": []
  },
  {
   "cell_type": "markdown",
   "id": "0ebd46b0-89df-4f6e-ab07-cdcb8c6f8d56",
   "metadata": {},
   "source": [
    "# Predict model"
   ]
  },
  {
   "cell_type": "code",
   "execution_count": 47,
   "id": "271df232-86bc-4c87-b633-91cc1022830a",
   "metadata": {},
   "outputs": [],
   "source": [
    "def cleanData(df,cat_columns, ohe_fl, model):\n",
    "    \n",
    "    ''' \n",
    "    Clean the dataframe, arrange the dataframe into \n",
    "    model required format\n",
    "    Input:   df(dataframe)\n",
    "             cat_columns: categorical columns(['salary','dept'])\n",
    "             ohe_fl: onehotEncode model\n",
    "             model: predictive model\n",
    "    Output: preduction result\n",
    "    '''\n",
    "    \n",
    "    loaded_ce_dummies = ohe_fl.transform(df[cat_columns])\n",
    "    \n",
    "    data_other_cols = df.drop(columns=cat_columns)\n",
    "    # # #Concatenate the two dataframes\n",
    "    pred_df = pd.concat([loaded_ce_dummies, data_other_cols], axis=1)\n",
    "    \n",
    "    pred_res = model.predict(pred_df.values)\n",
    "    \n",
    "    return pred_res[0]\n",
    "    "
   ]
  },
  {
   "cell_type": "code",
   "execution_count": 48,
   "id": "e35abb3a-4703-4c6b-b488-56f86dd51f1c",
   "metadata": {},
   "outputs": [],
   "source": [
    "input_data = dict(final_df_wo.iloc[3][:-1])"
   ]
  },
  {
   "cell_type": "code",
   "execution_count": 49,
   "id": "2a75048e-091e-44f6-b9cf-0538f3b51a78",
   "metadata": {},
   "outputs": [
    {
     "data": {
      "text/plain": [
       "{'satisfaction_level': 0.41,\n",
       " 'last_evaluation': 0.47,\n",
       " 'number_project': 2,\n",
       " 'average_montly_hours': 154,\n",
       " 'time_spend_company': 3,\n",
       " 'Work_accident': 0,\n",
       " 'promotion_last_5years': 0,\n",
       " 'dept': 'sales',\n",
       " 'salary': 'low'}"
      ]
     },
     "execution_count": 49,
     "metadata": {},
     "output_type": "execute_result"
    }
   ],
   "source": [
    "input_data"
   ]
  },
  {
   "cell_type": "code",
   "execution_count": 50,
   "id": "730321c4-9a4d-4b7f-bee2-2611eb157b00",
   "metadata": {},
   "outputs": [],
   "source": [
    "ddf = pd.DataFrame(input_data, index=[0])"
   ]
  },
  {
   "cell_type": "code",
   "execution_count": 58,
   "id": "ce262357-ea10-48c9-ba67-f626b250732a",
   "metadata": {},
   "outputs": [],
   "source": [
    "# ddf.to_csv('test_file.csv')"
   ]
  },
  {
   "cell_type": "code",
   "execution_count": 51,
   "id": "6b99af91-4394-4014-b613-098a230e4bae",
   "metadata": {},
   "outputs": [],
   "source": [
    "ce_ohe = joblib.load('clean_ohe.pkl')\n",
    "model_pkl = joblib.load('emp_rf.pkl')"
   ]
  },
  {
   "cell_type": "code",
   "execution_count": 52,
   "id": "657ea83d-8897-4828-bf05-6f3ea9d052d6",
   "metadata": {},
   "outputs": [
    {
     "data": {
      "text/plain": [
       "1"
      ]
     },
     "execution_count": 52,
     "metadata": {},
     "output_type": "execute_result"
    }
   ],
   "source": [
    "cleanData(ddf,['salary','dept'], ce_ohe, model_pkl)"
   ]
  },
  {
   "cell_type": "code",
   "execution_count": 53,
   "id": "fcb31960-882e-451d-894b-b07184a8b456",
   "metadata": {},
   "outputs": [
    {
     "data": {
      "text/html": [
       "<div>\n",
       "<style scoped>\n",
       "    .dataframe tbody tr th:only-of-type {\n",
       "        vertical-align: middle;\n",
       "    }\n",
       "\n",
       "    .dataframe tbody tr th {\n",
       "        vertical-align: top;\n",
       "    }\n",
       "\n",
       "    .dataframe thead th {\n",
       "        text-align: right;\n",
       "    }\n",
       "</style>\n",
       "<table border=\"1\" class=\"dataframe\">\n",
       "  <thead>\n",
       "    <tr style=\"text-align: right;\">\n",
       "      <th></th>\n",
       "      <th>salary_high</th>\n",
       "      <th>salary_medium</th>\n",
       "      <th>salary_low</th>\n",
       "      <th>dept_technical</th>\n",
       "      <th>dept_sales</th>\n",
       "      <th>dept_support</th>\n",
       "      <th>dept_product_mng</th>\n",
       "      <th>dept_IT</th>\n",
       "      <th>dept_RandD</th>\n",
       "      <th>dept_marketing</th>\n",
       "      <th>...</th>\n",
       "      <th>dept_management</th>\n",
       "      <th>dept_hr</th>\n",
       "      <th>satisfaction_level</th>\n",
       "      <th>last_evaluation</th>\n",
       "      <th>number_project</th>\n",
       "      <th>average_montly_hours</th>\n",
       "      <th>time_spend_company</th>\n",
       "      <th>Work_accident</th>\n",
       "      <th>promotion_last_5years</th>\n",
       "      <th>target</th>\n",
       "    </tr>\n",
       "  </thead>\n",
       "  <tbody>\n",
       "    <tr>\n",
       "      <th>0</th>\n",
       "      <td>1</td>\n",
       "      <td>0</td>\n",
       "      <td>0</td>\n",
       "      <td>1</td>\n",
       "      <td>0</td>\n",
       "      <td>0</td>\n",
       "      <td>0</td>\n",
       "      <td>0</td>\n",
       "      <td>0</td>\n",
       "      <td>0</td>\n",
       "      <td>...</td>\n",
       "      <td>0</td>\n",
       "      <td>0</td>\n",
       "      <td>0.73</td>\n",
       "      <td>0.86</td>\n",
       "      <td>4</td>\n",
       "      <td>133</td>\n",
       "      <td>3</td>\n",
       "      <td>0</td>\n",
       "      <td>0</td>\n",
       "      <td>0</td>\n",
       "    </tr>\n",
       "    <tr>\n",
       "      <th>1</th>\n",
       "      <td>0</td>\n",
       "      <td>1</td>\n",
       "      <td>0</td>\n",
       "      <td>0</td>\n",
       "      <td>1</td>\n",
       "      <td>0</td>\n",
       "      <td>0</td>\n",
       "      <td>0</td>\n",
       "      <td>0</td>\n",
       "      <td>0</td>\n",
       "      <td>...</td>\n",
       "      <td>0</td>\n",
       "      <td>0</td>\n",
       "      <td>0.21</td>\n",
       "      <td>0.77</td>\n",
       "      <td>6</td>\n",
       "      <td>215</td>\n",
       "      <td>4</td>\n",
       "      <td>0</td>\n",
       "      <td>0</td>\n",
       "      <td>0</td>\n",
       "    </tr>\n",
       "    <tr>\n",
       "      <th>2</th>\n",
       "      <td>0</td>\n",
       "      <td>1</td>\n",
       "      <td>0</td>\n",
       "      <td>0</td>\n",
       "      <td>0</td>\n",
       "      <td>1</td>\n",
       "      <td>0</td>\n",
       "      <td>0</td>\n",
       "      <td>0</td>\n",
       "      <td>0</td>\n",
       "      <td>...</td>\n",
       "      <td>0</td>\n",
       "      <td>0</td>\n",
       "      <td>0.60</td>\n",
       "      <td>0.98</td>\n",
       "      <td>4</td>\n",
       "      <td>195</td>\n",
       "      <td>3</td>\n",
       "      <td>0</td>\n",
       "      <td>0</td>\n",
       "      <td>0</td>\n",
       "    </tr>\n",
       "    <tr>\n",
       "      <th>3</th>\n",
       "      <td>0</td>\n",
       "      <td>0</td>\n",
       "      <td>1</td>\n",
       "      <td>0</td>\n",
       "      <td>1</td>\n",
       "      <td>0</td>\n",
       "      <td>0</td>\n",
       "      <td>0</td>\n",
       "      <td>0</td>\n",
       "      <td>0</td>\n",
       "      <td>...</td>\n",
       "      <td>0</td>\n",
       "      <td>0</td>\n",
       "      <td>0.41</td>\n",
       "      <td>0.47</td>\n",
       "      <td>2</td>\n",
       "      <td>154</td>\n",
       "      <td>3</td>\n",
       "      <td>0</td>\n",
       "      <td>0</td>\n",
       "      <td>1</td>\n",
       "    </tr>\n",
       "    <tr>\n",
       "      <th>4</th>\n",
       "      <td>0</td>\n",
       "      <td>1</td>\n",
       "      <td>0</td>\n",
       "      <td>0</td>\n",
       "      <td>0</td>\n",
       "      <td>0</td>\n",
       "      <td>1</td>\n",
       "      <td>0</td>\n",
       "      <td>0</td>\n",
       "      <td>0</td>\n",
       "      <td>...</td>\n",
       "      <td>0</td>\n",
       "      <td>0</td>\n",
       "      <td>0.77</td>\n",
       "      <td>0.87</td>\n",
       "      <td>5</td>\n",
       "      <td>257</td>\n",
       "      <td>2</td>\n",
       "      <td>0</td>\n",
       "      <td>0</td>\n",
       "      <td>0</td>\n",
       "    </tr>\n",
       "  </tbody>\n",
       "</table>\n",
       "<p>5 rows × 21 columns</p>\n",
       "</div>"
      ],
      "text/plain": [
       "   salary_high  salary_medium  salary_low  dept_technical  dept_sales  \\\n",
       "0            1              0           0               1           0   \n",
       "1            0              1           0               0           1   \n",
       "2            0              1           0               0           0   \n",
       "3            0              0           1               0           1   \n",
       "4            0              1           0               0           0   \n",
       "\n",
       "   dept_support  dept_product_mng  dept_IT  dept_RandD  dept_marketing  ...  \\\n",
       "0             0                 0        0           0               0  ...   \n",
       "1             0                 0        0           0               0  ...   \n",
       "2             1                 0        0           0               0  ...   \n",
       "3             0                 0        0           0               0  ...   \n",
       "4             0                 1        0           0               0  ...   \n",
       "\n",
       "   dept_management  dept_hr  satisfaction_level  last_evaluation  \\\n",
       "0                0        0                0.73             0.86   \n",
       "1                0        0                0.21             0.77   \n",
       "2                0        0                0.60             0.98   \n",
       "3                0        0                0.41             0.47   \n",
       "4                0        0                0.77             0.87   \n",
       "\n",
       "   number_project  average_montly_hours  time_spend_company  Work_accident  \\\n",
       "0               4                   133                   3              0   \n",
       "1               6                   215                   4              0   \n",
       "2               4                   195                   3              0   \n",
       "3               2                   154                   3              0   \n",
       "4               5                   257                   2              0   \n",
       "\n",
       "   promotion_last_5years  target  \n",
       "0                      0       0  \n",
       "1                      0       0  \n",
       "2                      0       0  \n",
       "3                      0       1  \n",
       "4                      0       0  \n",
       "\n",
       "[5 rows x 21 columns]"
      ]
     },
     "execution_count": 53,
     "metadata": {},
     "output_type": "execute_result"
    }
   ],
   "source": [
    "final_df.head()"
   ]
  },
  {
   "cell_type": "code",
   "execution_count": null,
   "id": "dd379f14-02f3-4fad-86e8-b79767b5f302",
   "metadata": {},
   "outputs": [],
   "source": []
  },
  {
   "cell_type": "code",
   "execution_count": 54,
   "id": "e9dcc176-9ccb-4342-b6ad-8d3aedfd394c",
   "metadata": {},
   "outputs": [
    {
     "data": {
      "text/plain": [
       "array([0.73, 0.86, 4, 133, 3, 0, 0, 'technical', 'high', 0], dtype=object)"
      ]
     },
     "execution_count": 54,
     "metadata": {},
     "output_type": "execute_result"
    }
   ],
   "source": [
    "final_df_wo.loc[0].values"
   ]
  },
  {
   "cell_type": "code",
   "execution_count": 55,
   "id": "24427360-8da0-4965-a632-55d5571f301d",
   "metadata": {},
   "outputs": [
    {
     "data": {
      "text/plain": [
       "21"
      ]
     },
     "execution_count": 55,
     "metadata": {},
     "output_type": "execute_result"
    }
   ],
   "source": [
    "len(final_df.loc[0].values)"
   ]
  },
  {
   "cell_type": "code",
   "execution_count": 56,
   "id": "a3c7b838-ea9e-4863-bb6c-dec8d7403086",
   "metadata": {},
   "outputs": [
    {
     "data": {
      "text/plain": [
       "array([1], dtype=int64)"
      ]
     },
     "execution_count": 56,
     "metadata": {},
     "output_type": "execute_result"
    }
   ],
   "source": [
    "inf_model.predict(np.array(X_train.iloc[2]).reshape(1,-1))"
   ]
  }
 ],
 "metadata": {
  "kernelspec": {
   "display_name": "Python 3.9.6 64-bit",
   "language": "python",
   "name": "python3"
  },
  "language_info": {
   "codemirror_mode": {
    "name": "ipython",
    "version": 3
   },
   "file_extension": ".py",
   "mimetype": "text/x-python",
   "name": "python",
   "nbconvert_exporter": "python",
   "pygments_lexer": "ipython3",
   "version": "3.9.6"
  },
  "vscode": {
   "interpreter": {
    "hash": "31f2aee4e71d21fbe5cf8b01ff0e069b9275f58929596ceb00d14d90e3e16cd6"
   }
  }
 },
 "nbformat": 4,
 "nbformat_minor": 5
}
